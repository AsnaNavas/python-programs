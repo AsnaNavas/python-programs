{
  "nbformat": 4,
  "nbformat_minor": 0,
  "metadata": {
    "colab": {
      "provenance": [],
      "authorship_tag": "ABX9TyM1cUmjAuGHV0/U9fbhAXiy",
      "include_colab_link": true
    },
    "kernelspec": {
      "name": "python3",
      "display_name": "Python 3"
    },
    "language_info": {
      "name": "python"
    }
  },
  "cells": [
    {
      "cell_type": "markdown",
      "metadata": {
        "id": "view-in-github",
        "colab_type": "text"
      },
      "source": [
        "<a href=\"https://colab.research.google.com/github/AsnaNavas/python-programs/blob/main/preprocessing_of_Data.ipynb\" target=\"_parent\"><img src=\"https://colab.research.google.com/assets/colab-badge.svg\" alt=\"Open In Colab\"/></a>"
      ]
    },
    {
      "cell_type": "code",
      "execution_count": null,
      "metadata": {
        "id": "Sm5Ovh3ECul1"
      },
      "outputs": [],
      "source": [
        "import pandas as pd\n",
        "\n",
        "\n",
        "data = pd.read_csv('/content/train_loan_preprocess.csv')\n"
      ]
    },
    {
      "cell_type": "code",
      "source": [
        "missing_values = data.isnull().sum()\n"
      ],
      "metadata": {
        "id": "NVHuVISrDM9l"
      },
      "execution_count": null,
      "outputs": []
    },
    {
      "cell_type": "code",
      "source": [
        "import pandas as pd\n",
        "\n",
        "\n",
        "data = pd.read_csv('/content/train_loan_preprocess.csv')\n",
        "\n",
        "\n",
        "missing_values = data.isnull().sum()\n",
        "\n",
        "\n",
        "for column in data.select_dtypes(include=['number']).columns:\n",
        "    data[column].fillna(data[column].mean(), inplace=True)\n",
        "\n",
        "\n",
        "data.dropna(inplace=True)"
      ],
      "metadata": {
        "colab": {
          "base_uri": "https://localhost:8080/"
        },
        "id": "tQ7bfPC9wRBW",
        "outputId": "0a5c0705-db15-42bd-88e9-0b451b0838f9"
      },
      "execution_count": 8,
      "outputs": [
        {
          "output_type": "stream",
          "name": "stderr",
          "text": [
            "<ipython-input-8-8a573663e105>:11: FutureWarning: A value is trying to be set on a copy of a DataFrame or Series through chained assignment using an inplace method.\n",
            "The behavior will change in pandas 3.0. This inplace method will never work because the intermediate object on which we are setting values always behaves as a copy.\n",
            "\n",
            "For example, when doing 'df[col].method(value, inplace=True)', try using 'df.method({col: value}, inplace=True)' or df[col] = df[col].method(value) instead, to perform the operation inplace on the original object.\n",
            "\n",
            "\n",
            "  data[column].fillna(data[column].mean(), inplace=True)\n"
          ]
        }
      ]
    },
    {
      "cell_type": "code",
      "source": [
        "import pandas as pd\n",
        "\n",
        "data = pd.read_csv('/content/train_loan_preprocess.csv')\n",
        "\n",
        "\n",
        "# Calculate quantiles only on numerical columns\n",
        "numerical_data = data.select_dtypes(include=['number'])\n",
        "Q1 = numerical_data.quantile(0.25)\n",
        "Q3 = numerical_data.quantile(0.75)\n",
        "IQR = Q3 - Q1\n",
        "\n",
        "# Apply outlier removal only on numerical columns\n",
        "data = data[~((numerical_data < (Q1 - 1.5 * IQR)) | (numerical_data > (Q3 + 1.5 * IQR))).any(axis=1)]"
      ],
      "metadata": {
        "id": "O4axAZMyw5cX"
      },
      "execution_count": 10,
      "outputs": []
    },
    {
      "cell_type": "code",
      "source": [
        "data = pd.get_dummies(data, columns=['categorical_column_name'], drop_first=True)\n"
      ],
      "metadata": {
        "id": "OAeG7BGrxufw"
      },
      "execution_count": null,
      "outputs": []
    },
    {
      "cell_type": "code",
      "source": [
        "import pandas as pd\n",
        "\n",
        "\n",
        "data = pd.read_csv('/content/train_loan_preprocess.csv')\n",
        "print(data.columns)\n",
        "\n",
        "\n",
        "data = pd.get_dummies(data, columns=['Loan_Status'], drop_first=True)\n",
        "\n"
      ],
      "metadata": {
        "colab": {
          "base_uri": "https://localhost:8080/"
        },
        "id": "udE1yzbyx5zF",
        "outputId": "41413588-0892-4bb5-af75-4e424a565617"
      },
      "execution_count": 13,
      "outputs": [
        {
          "output_type": "stream",
          "name": "stdout",
          "text": [
            "Index(['Loan_ID', 'Gender', 'Married', 'Dependents', 'Education',\n",
            "       'Self_Employed', 'ApplicantIncome', 'CoapplicantIncome', 'LoanAmount',\n",
            "       'Loan_Amount_Term', 'Credit_History', 'Property_Area', 'Loan_Status'],\n",
            "      dtype='object')\n"
          ]
        }
      ]
    },
    {
      "cell_type": "code",
      "source": [
        " import pandas as pd\n",
        "from sklearn.preprocessing import StandardScaler\n",
        "\n",
        "data = pd.read_csv('/content/train_loan_preprocess.csv')\n",
        "print(data.columns)\n",
        "data = pd.get_dummies(data, columns=['Loan_Status'], drop_first=True)\n",
        "\n",
        "\n",
        "numerical_features = data.select_dtypes(include=['number']).columns\n",
        "numerical_data = data[numerical_features]\n",
        "\n",
        "\n",
        "scaler = StandardScaler()\n",
        "data_scaled = scaler.fit_transform(numerical_data)\n",
        "\n",
        "data_scaled = pd.DataFrame(data_scaled, columns=numerical_features, index=data.index)\n",
        "\n",
        "\n",
        "data = pd.concat([data.drop(columns=numerical_features), data_scaled], axis=1)"
      ],
      "metadata": {
        "colab": {
          "base_uri": "https://localhost:8080/"
        },
        "id": "Sm-BbWb0y0AH",
        "outputId": "3b34dbbe-ff2c-4e1f-c006-798dab106b84"
      },
      "execution_count": 15,
      "outputs": [
        {
          "output_type": "stream",
          "name": "stdout",
          "text": [
            "Index(['Loan_ID', 'Gender', 'Married', 'Dependents', 'Education',\n",
            "       'Self_Employed', 'ApplicantIncome', 'CoapplicantIncome', 'LoanAmount',\n",
            "       'Loan_Amount_Term', 'Credit_History', 'Property_Area', 'Loan_Status'],\n",
            "      dtype='object')\n"
          ]
        }
      ]
    }
  ]
}