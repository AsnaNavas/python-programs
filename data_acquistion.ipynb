{
  "nbformat": 4,
  "nbformat_minor": 0,
  "metadata": {
    "colab": {
      "provenance": []
    },
    "kernelspec": {
      "name": "python3",
      "display_name": "Python 3"
    },
    "language_info": {
      "name": "python"
    }
  },
  "cells": [
    {
      "cell_type": "code",
      "execution_count": null,
      "metadata": {
        "id": "kPDv1UG9n4Yi"
      },
      "outputs": [],
      "source": [
        "import pandas as pd\n",
        "df=pd.read_csv('/content/archive.zip')"
      ]
    },
    {
      "cell_type": "code",
      "source": [
        "print(df.head())"
      ],
      "metadata": {
        "colab": {
          "base_uri": "https://localhost:8080/"
        },
        "id": "FvND0Tzmol7d",
        "outputId": "85585b11-72f1-4b9f-8760-20a07e380358"
      },
      "execution_count": null,
      "outputs": [
        {
          "output_type": "stream",
          "name": "stdout",
          "text": [
            "            Name  Age  Gender Blood Type Medical Condition Date of Admission  \\\n",
            "0  Bobby JacksOn   30    Male         B-            Cancer        2024-01-31   \n",
            "1   LesLie TErRy   62    Male         A+           Obesity        2019-08-20   \n",
            "2    DaNnY sMitH   76  Female         A-           Obesity        2022-09-22   \n",
            "3   andrEw waTtS   28  Female         O+          Diabetes        2020-11-18   \n",
            "4  adrIENNE bEll   43  Female        AB+            Cancer        2022-09-19   \n",
            "\n",
            "             Doctor                    Hospital Insurance Provider  \\\n",
            "0     Matthew Smith             Sons and Miller         Blue Cross   \n",
            "1   Samantha Davies                     Kim Inc           Medicare   \n",
            "2  Tiffany Mitchell                    Cook PLC              Aetna   \n",
            "3       Kevin Wells  Hernandez Rogers and Vang,           Medicare   \n",
            "4    Kathleen Hanna                 White-White              Aetna   \n",
            "\n",
            "   Billing Amount  Room Number Admission Type Discharge Date   Medication  \\\n",
            "0    18856.281306          328         Urgent     2024-02-02  Paracetamol   \n",
            "1    33643.327287          265      Emergency     2019-08-26    Ibuprofen   \n",
            "2    27955.096079          205      Emergency     2022-10-07      Aspirin   \n",
            "3    37909.782410          450       Elective     2020-12-18    Ibuprofen   \n",
            "4    14238.317814          458         Urgent     2022-10-09   Penicillin   \n",
            "\n",
            "   Test Results  \n",
            "0        Normal  \n",
            "1  Inconclusive  \n",
            "2        Normal  \n",
            "3      Abnormal  \n",
            "4      Abnormal  \n"
          ]
        }
      ]
    },
    {
      "cell_type": "code",
      "source": [
        "print(df.describe())"
      ],
      "metadata": {
        "colab": {
          "base_uri": "https://localhost:8080/"
        },
        "id": "oJSFBrN6otVO",
        "outputId": "1eb5cb2e-a2db-4f9d-8a1d-7f241f26ea6d"
      },
      "execution_count": null,
      "outputs": [
        {
          "output_type": "stream",
          "name": "stdout",
          "text": [
            "                Age  Billing Amount   Room Number\n",
            "count  55500.000000    55500.000000  55500.000000\n",
            "mean      51.539459    25539.316097    301.134829\n",
            "std       19.602454    14211.454431    115.243069\n",
            "min       13.000000    -2008.492140    101.000000\n",
            "25%       35.000000    13241.224652    202.000000\n",
            "50%       52.000000    25538.069376    302.000000\n",
            "75%       68.000000    37820.508436    401.000000\n",
            "max       89.000000    52764.276736    500.000000\n"
          ]
        }
      ]
    },
    {
      "cell_type": "code",
      "source": [
        "\n",
        "\n",
        "num_rows, num_columns = df.shape\n",
        "\n",
        "print(f\"Number of rows: {num_rows}\")\n",
        "print(f\"Number of columns: {num_columns}\")"
      ],
      "metadata": {
        "colab": {
          "base_uri": "https://localhost:8080/"
        },
        "id": "g4Jr1Po3qwR_",
        "outputId": "0b7441c2-bc2c-422a-a9ea-a3e96d41ab36"
      },
      "execution_count": null,
      "outputs": [
        {
          "output_type": "stream",
          "name": "stdout",
          "text": [
            "Number of rows: 55500\n",
            "Number of columns: 15\n"
          ]
        }
      ]
    },
    {
      "cell_type": "code",
      "source": [
        "print(df.dtypes)"
      ],
      "metadata": {
        "colab": {
          "base_uri": "https://localhost:8080/"
        },
        "id": "CxDNRXnzrD0n",
        "outputId": "b29eb404-c28a-4992-9d80-93f13ea37c0c"
      },
      "execution_count": null,
      "outputs": [
        {
          "output_type": "stream",
          "name": "stdout",
          "text": [
            "Name                   object\n",
            "Age                     int64\n",
            "Gender                 object\n",
            "Blood Type             object\n",
            "Medical Condition      object\n",
            "Date of Admission      object\n",
            "Doctor                 object\n",
            "Hospital               object\n",
            "Insurance Provider     object\n",
            "Billing Amount        float64\n",
            "Room Number             int64\n",
            "Admission Type         object\n",
            "Discharge Date         object\n",
            "Medication             object\n",
            "Test Results           object\n",
            "dtype: object\n"
          ]
        }
      ]
    },
    {
      "cell_type": "code",
      "source": [
        "missing_values = df.isnull().sum()\n",
        "\n",
        "print(missing_values)"
      ],
      "metadata": {
        "colab": {
          "base_uri": "https://localhost:8080/"
        },
        "id": "3WAZ6ZmVryF2",
        "outputId": "2dedf5fc-31a2-483b-a65a-7add5cb01cc3"
      },
      "execution_count": null,
      "outputs": [
        {
          "output_type": "stream",
          "name": "stdout",
          "text": [
            "Name                  0\n",
            "Age                   0\n",
            "Gender                0\n",
            "Blood Type            0\n",
            "Medical Condition     0\n",
            "Date of Admission     0\n",
            "Doctor                0\n",
            "Hospital              0\n",
            "Insurance Provider    0\n",
            "Billing Amount        0\n",
            "Room Number           0\n",
            "Admission Type        0\n",
            "Discharge Date        0\n",
            "Medication            0\n",
            "Test Results          0\n",
            "dtype: int64\n"
          ]
        }
      ]
    },
    {
      "cell_type": "code",
      "source": [
        "\n",
        "unique_values = df['Age'].unique()\n",
        "num_unique_values = len(unique_values)\n",
        "\n",
        "print(\"Unique values in 'Age' column:\", unique_values)\n",
        "print(\"Number of unique values:\", num_unique_values)\n"
      ],
      "metadata": {
        "colab": {
          "base_uri": "https://localhost:8080/"
        },
        "id": "nIhMWy9bvb-2",
        "outputId": "56268d3e-b441-4c10-edf7-7adc99ed0bd7"
      },
      "execution_count": null,
      "outputs": [
        {
          "output_type": "stream",
          "name": "stdout",
          "text": [
            "Unique values in 'Age' column: [30 62 76 28 43 36 21 20 82 58 72 38 75 68 44 46 63 34 67 48 59 73 51 23\n",
            " 78 25 33 26 70 57 74 81 49 65 31 22 77 42 24 84 55 40 83 18 27 19 29 61\n",
            " 80 60 35 79 53 69 47 85 52 37 50 32 54 45 66 39 56 64 71 41 88 17 87 86\n",
            " 15 16 13 14 89]\n",
            "Number of unique values: 77\n"
          ]
        }
      ]
    },
    {
      "cell_type": "code",
      "source": [
        "import pandas as pd\n",
        "df=pd.read_csv('/content/archive.zip')\n",
        "\n",
        "\n",
        "mean_age = df['Age'].mean()\n",
        "median_age = df['Age'].median()\n",
        "std_dev_age = df['Age'].std()\n",
        "\n",
        "print(\"Mean age:\", mean_age)\n",
        "print(\"Median age:\", median_age)\n",
        "print(\"Standard deviation of age:\", std_dev_age)\n"
      ],
      "metadata": {
        "colab": {
          "base_uri": "https://localhost:8080/"
        },
        "id": "RUpamI_0vtze",
        "outputId": "a850a981-da20-485e-d430-67cbc8e541c0"
      },
      "execution_count": null,
      "outputs": [
        {
          "output_type": "stream",
          "name": "stdout",
          "text": [
            "Mean age: 51.53945945945946\n",
            "Median age: 52.0\n",
            "Standard deviation of age: 19.602453808514348\n"
          ]
        }
      ]
    },
    {
      "cell_type": "code",
      "source": [
        "\n",
        "import pandas as pd\n",
        "\n",
        "Q1 = df['Age'].quantile(0.25)\n",
        "Q3 = df['Age'].quantile(0.75)\n",
        "IQR = Q3 - Q1\n",
        "\n",
        "lower_bound = Q1 - 1.5 * IQR\n",
        "upper_bound = Q3 + 1.5 * IQR\n",
        "\n",
        "outliers = df[(df['Age'] < lower_bound) | (df['Age'] > upper_bound)]\n",
        "\n",
        "print(\"Potential outliers in 'Age' column:\\n\", outliers)\n",
        "\n"
      ],
      "metadata": {
        "colab": {
          "base_uri": "https://localhost:8080/"
        },
        "id": "O9phLm3KwVBH",
        "outputId": "c369bb24-4499-4003-bce7-34366053c53f"
      },
      "execution_count": null,
      "outputs": [
        {
          "output_type": "stream",
          "name": "stdout",
          "text": [
            "Potential outliers in 'Age' column:\n",
            " Empty DataFrame\n",
            "Columns: [Name, Age, Gender, Blood Type, Medical Condition, Date of Admission, Doctor, Hospital, Insurance Provider, Billing Amount, Room Number, Admission Type, Discharge Date, Medication, Test Results]\n",
            "Index: []\n"
          ]
        }
      ]
    },
    {
      "cell_type": "code",
      "source": [
        "correlation_matrix = df.head()\n",
        "\n",
        "print(\"Correlation matrix:\")\n",
        "print(correlation_matrix)\n",
        "\n"
      ],
      "metadata": {
        "colab": {
          "base_uri": "https://localhost:8080/"
        },
        "id": "mXLrDHUAxM2-",
        "outputId": "388bc415-8d57-4c5d-d705-05710f60f05a"
      },
      "execution_count": null,
      "outputs": [
        {
          "output_type": "stream",
          "name": "stdout",
          "text": [
            "Correlation matrix:\n",
            "            Name  Age  Gender Blood Type Medical Condition Date of Admission  \\\n",
            "0  Bobby JacksOn   30    Male         B-            Cancer        2024-01-31   \n",
            "1   LesLie TErRy   62    Male         A+           Obesity        2019-08-20   \n",
            "2    DaNnY sMitH   76  Female         A-           Obesity        2022-09-22   \n",
            "3   andrEw waTtS   28  Female         O+          Diabetes        2020-11-18   \n",
            "4  adrIENNE bEll   43  Female        AB+            Cancer        2022-09-19   \n",
            "\n",
            "             Doctor                    Hospital Insurance Provider  \\\n",
            "0     Matthew Smith             Sons and Miller         Blue Cross   \n",
            "1   Samantha Davies                     Kim Inc           Medicare   \n",
            "2  Tiffany Mitchell                    Cook PLC              Aetna   \n",
            "3       Kevin Wells  Hernandez Rogers and Vang,           Medicare   \n",
            "4    Kathleen Hanna                 White-White              Aetna   \n",
            "\n",
            "   Billing Amount  Room Number Admission Type Discharge Date   Medication  \\\n",
            "0    18856.281306          328         Urgent     2024-02-02  Paracetamol   \n",
            "1    33643.327287          265      Emergency     2019-08-26    Ibuprofen   \n",
            "2    27955.096079          205      Emergency     2022-10-07      Aspirin   \n",
            "3    37909.782410          450       Elective     2020-12-18    Ibuprofen   \n",
            "4    14238.317814          458         Urgent     2022-10-09   Penicillin   \n",
            "\n",
            "   Test Results  \n",
            "0        Normal  \n",
            "1  Inconclusive  \n",
            "2        Normal  \n",
            "3      Abnormal  \n",
            "4      Abnormal  \n"
          ]
        }
      ]
    },
    {
      "cell_type": "code",
      "source": [
        "\n",
        "grouped_by_Name = df.groupby('Name')['Age'].mean()\n",
        "\n",
        "print(grouped_by_Name)\n",
        "grouped_by_Medication = df.groupby('Medication')['Doctor'].sum()\n",
        "\n",
        "print(grouped_by_Medication)\n"
      ],
      "metadata": {
        "colab": {
          "base_uri": "https://localhost:8080/"
        },
        "id": "cl3fAZtSxzPf",
        "outputId": "5eebe241-c2fa-4dae-e707-b68ebbf1bc0d"
      },
      "execution_count": null,
      "outputs": [
        {
          "output_type": "stream",
          "name": "stdout",
          "text": [
            "Name\n",
            "AARON DuncAn         22.0\n",
            "AARON HicKS          76.0\n",
            "AARON bAldWIN Jr.    20.0\n",
            "AARON hAWkIns        69.0\n",
            "AAROn HaRt           18.0\n",
            "                     ... \n",
            "zachaRy huLL         53.0\n",
            "zachaRy oDOM         52.0\n",
            "zachaRy raMirEZ      58.0\n",
            "zacharY BauTista     44.5\n",
            "zachary WALl         73.0\n",
            "Name: Age, Length: 49992, dtype: float64\n",
            "Medication\n",
            "Aspirin        Tiffany MitchellDaniel FergusonMaria Dougherty...\n",
            "Ibuprofen      Samantha DaviesKevin WellsTaylor NewtonWendy G...\n",
            "Lipitor        Douglas MayoTheresa FreemanGregory SmithVaness...\n",
            "Paracetamol    Matthew SmithKelly OlsonSuzanne ThomasHeather ...\n",
            "Penicillin     Kathleen HannaKenneth FletcherDenise GallowayJ...\n",
            "Name: Doctor, dtype: object\n"
          ]
        }
      ]
    },
    {
      "cell_type": "markdown",
      "source": [
        "Data Summary:\n",
        "The dataset contains information about patients, including their age, prescribed medications, and attending doctors.\n",
        " There are [num_rows] rows and [num_columns] columns in the dataset.\n",
        " Data types include integers (for Age), objects (for Name, Medication, Doctor), and potentially others\n",
        "The number of missing values in each column is shown in the missing_values output.\n",
        " Handling missing values might be necessary depending on the specific analysis goals.\n",
        "\n",
        " **Age Distribution:**\n",
        " The average age is [mean_age], the median age is [median_age], and the standard deviation is [std_dev_age].\n",
        "Potential outliers in the 'Age' column were identified based on the IQR method.\n",
        "The 'Age' column has [num_unique_values] unique values.\n",
        "\n",
        " **Relationships:**\n",
        " The correlation matrix provides an overview of potential relationships between numerical variables.\n",
        "Grouping by 'Name' shows the average age for each patient.\n",
        "Grouping by 'Medication' and summing 'Doctor' could indicate the number of doctors prescribing each medication.\n",
        "\n",
        "**Further Analysis:**\n",
        "Depending on the specific research questions, additional analysis could be performed, such as:\n",
        "Investigating the distribution of medications and doctors.\n",
        " Exploring potential correlations between age and other variables.\n",
        "  Addressing missing values and outliers.\n",
        "Conducting statistical tests to validate observed patterns."
      ],
      "metadata": {
        "id": "WpADhFv524-3"
      }
    }
  ]
}