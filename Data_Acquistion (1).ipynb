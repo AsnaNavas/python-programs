{
  "nbformat": 4,
  "nbformat_minor": 0,
  "metadata": {
    "colab": {
      "provenance": []
    },
    "kernelspec": {
      "name": "python3",
      "display_name": "Python 3"
    },
    "language_info": {
      "name": "python"
    }
  },
  "cells": [
    {
      "cell_type": "code",
      "source": [
        "import pandas as pd\n",
        "df=pd.read_csv('/content/student_performance_data.csv')"
      ],
      "metadata": {
        "id": "ej6TPAHljIJI"
      },
      "execution_count": null,
      "outputs": []
    },
    {
      "cell_type": "code",
      "source": [
        "print(df.head())"
      ],
      "metadata": {
        "colab": {
          "base_uri": "https://localhost:8080/"
        },
        "id": "JPTYW50dj8KD",
        "outputId": "ca3679d3-45b6-4bb9-f154-37ebbb0cca07"
      },
      "execution_count": null,
      "outputs": [
        {
          "output_type": "stream",
          "name": "stdout",
          "text": [
            "   StudentID  Gender  Age  StudyHoursPerWeek  AttendanceRate   GPA      Major  \\\n",
            "0          1    Male   24                 37           90.75  3.47       Arts   \n",
            "1          2  Female   22                 37           74.90  2.32  Education   \n",
            "2          3    Male   22                 10           53.36  2.38   Business   \n",
            "3          4    Male   24                 10           70.26  3.46    Science   \n",
            "4          5    Male   18                 19           74.87  2.31  Education   \n",
            "\n",
            "  PartTimeJob ExtraCurricularActivities  \n",
            "0         Yes                        No  \n",
            "1          No                        No  \n",
            "2          No                        No  \n",
            "3         Yes                        No  \n",
            "4         Yes                        No  \n"
          ]
        }
      ]
    },
    {
      "cell_type": "code",
      "source": [
        "print(df.describe())"
      ],
      "metadata": {
        "colab": {
          "base_uri": "https://localhost:8080/"
        },
        "id": "-QRj3FhSkGYW",
        "outputId": "553e27ee-a628-4faa-a567-09cc4b70f2f3"
      },
      "execution_count": null,
      "outputs": [
        {
          "output_type": "stream",
          "name": "stdout",
          "text": [
            "        StudentID         Age  StudyHoursPerWeek  AttendanceRate        GPA\n",
            "count  500.000000  500.000000         500.000000      500.000000  500.00000\n",
            "mean   250.500000   20.956000          19.876000       74.990380    2.98516\n",
            "std    144.481833    2.000517          11.471347       14.565917    0.56362\n",
            "min      1.000000   18.000000           1.000000       50.010000    2.00000\n",
            "25%    125.750000   19.000000          10.000000       62.607500    2.48750\n",
            "50%    250.500000   21.000000          20.500000       75.730000    3.00000\n",
            "75%    375.250000   23.000000          30.000000       87.220000    3.48000\n",
            "max    500.000000   24.000000          39.000000       99.970000    3.99000\n"
          ]
        }
      ]
    },
    {
      "cell_type": "code",
      "source": [
        "num_row, num_columns = df.shape\n",
        "\n",
        "print(f\"Number of rows: {num_row}\")\n",
        "print(f\"Number of columns: {num_columns}\")"
      ],
      "metadata": {
        "colab": {
          "base_uri": "https://localhost:8080/"
        },
        "id": "-xzCWQstkO6e",
        "outputId": "5ffb2987-9f1a-4023-8c14-a55837fa4869"
      },
      "execution_count": null,
      "outputs": [
        {
          "output_type": "stream",
          "name": "stdout",
          "text": [
            "Number of rows: 500\n",
            "Number of columns: 9\n"
          ]
        }
      ]
    },
    {
      "cell_type": "code",
      "source": [
        "print(df.dtypes)"
      ],
      "metadata": {
        "colab": {
          "base_uri": "https://localhost:8080/"
        },
        "id": "-Q0uFB-ykl64",
        "outputId": "e84e227a-4690-4967-85c6-95dc620813ba"
      },
      "execution_count": null,
      "outputs": [
        {
          "output_type": "stream",
          "name": "stdout",
          "text": [
            "StudentID                      int64\n",
            "Gender                        object\n",
            "Age                            int64\n",
            "StudyHoursPerWeek              int64\n",
            "AttendanceRate               float64\n",
            "GPA                          float64\n",
            "Major                         object\n",
            "PartTimeJob                   object\n",
            "ExtraCurricularActivities     object\n",
            "dtype: object\n"
          ]
        }
      ]
    },
    {
      "cell_type": "code",
      "source": [
        "missing_values = df.isnull().sum()\n",
        "print(missing_values)"
      ],
      "metadata": {
        "colab": {
          "base_uri": "https://localhost:8080/"
        },
        "id": "kodWH3mPktp3",
        "outputId": "65dfe0ac-1b07-4c15-9d5c-30e22ca16973"
      },
      "execution_count": null,
      "outputs": [
        {
          "output_type": "stream",
          "name": "stdout",
          "text": [
            "StudentID                    0\n",
            "Gender                       0\n",
            "Age                          0\n",
            "StudyHoursPerWeek            0\n",
            "AttendanceRate               0\n",
            "GPA                          0\n",
            "Major                        0\n",
            "PartTimeJob                  0\n",
            "ExtraCurricularActivities    0\n",
            "dtype: int64\n"
          ]
        }
      ]
    },
    {
      "cell_type": "code",
      "source": [
        "unique_values = df['Age'].unique()\n",
        "num_unique_values = len(unique_values)\n",
        "print(\"unique values in 'Age'column:\",unique_values)\n",
        "print(\"Number of unique values:\", num_unique_values)"
      ],
      "metadata": {
        "colab": {
          "base_uri": "https://localhost:8080/"
        },
        "id": "Vru8wh7vk3M4",
        "outputId": "804f84b1-9365-4ada-eb67-ca4f50240df3"
      },
      "execution_count": null,
      "outputs": [
        {
          "output_type": "stream",
          "name": "stdout",
          "text": [
            "unique values in 'Age'column: [24 22 18 20 19 23 21]\n",
            "Number of unique values: 7\n"
          ]
        }
      ]
    },
    {
      "cell_type": "code",
      "source": [
        "import pandas as pd\n",
        "df = pd.read_csv('/content/student_performance_data.csv')\n",
        "\n",
        "mean_age = df['Age'].mean()\n",
        "median_age = df['Age'].median()\n",
        "std_dev_age = df['Age'].std()\n",
        "\n",
        "print(\"Mean age:\", mean_age)\n",
        "print(\"Median age:\", median_age)\n",
        "print(\"standard deviation of age:\", std_dev_age)\n"
      ],
      "metadata": {
        "colab": {
          "base_uri": "https://localhost:8080/"
        },
        "id": "0uLJgN79mI8K",
        "outputId": "b9496019-dd5d-40a5-9b79-fe44b8e1b465"
      },
      "execution_count": null,
      "outputs": [
        {
          "output_type": "stream",
          "name": "stdout",
          "text": [
            "Mean age: 20.956\n",
            "Median age: 21.0\n",
            "standard deviation of age: 2.000516967254351\n"
          ]
        }
      ]
    },
    {
      "cell_type": "code",
      "source": [
        "import pandas as pd\n",
        "\n",
        "Q1 = df['Age'].quantile(0.25)\n",
        "Q3 = df['Age'].quantile(0.75)\n",
        "\n",
        "IQR = Q3 - Q1\n",
        "\n",
        "lower_bound = Q1 - 1.5 * IQR\n",
        "upper_bound = Q3 + 1.5 * IQR\n",
        "\n",
        "outliers = df[(df['Age'] < lower_bound) | (df['Age'] > upper_bound)]\n",
        "\n",
        "print(\"potential outliers in 'Age' column:\\n\",outliers)"
      ],
      "metadata": {
        "colab": {
          "base_uri": "https://localhost:8080/"
        },
        "id": "5FfB98M8m-yW",
        "outputId": "6a90dde7-5f6b-4258-e8a0-142a67dc9c55"
      },
      "execution_count": null,
      "outputs": [
        {
          "output_type": "stream",
          "name": "stdout",
          "text": [
            "potential outliers in 'Age' column:\n",
            " Empty DataFrame\n",
            "Columns: [StudentID, Gender, Age, StudyHoursPerWeek, AttendanceRate, GPA, Major, PartTimeJob, ExtraCurricularActivities]\n",
            "Index: []\n"
          ]
        }
      ]
    },
    {
      "cell_type": "code",
      "source": [
        "correlation_matrix = df.head()\n",
        "\n",
        "print(\"correlation matrix:\")\n",
        "print(correlation_matrix)"
      ],
      "metadata": {
        "colab": {
          "base_uri": "https://localhost:8080/"
        },
        "id": "kg5fXekToAVX",
        "outputId": "5597493a-d1cd-4412-cd1b-142f82833ba3"
      },
      "execution_count": null,
      "outputs": [
        {
          "output_type": "stream",
          "name": "stdout",
          "text": [
            "correlation matrix:\n",
            "   StudentID  Gender  Age  StudyHoursPerWeek  AttendanceRate   GPA      Major  \\\n",
            "0          1    Male   24                 37           90.75  3.47       Arts   \n",
            "1          2  Female   22                 37           74.90  2.32  Education   \n",
            "2          3    Male   22                 10           53.36  2.38   Business   \n",
            "3          4    Male   24                 10           70.26  3.46    Science   \n",
            "4          5    Male   18                 19           74.87  2.31  Education   \n",
            "\n",
            "  PartTimeJob ExtraCurricularActivities  \n",
            "0         Yes                        No  \n",
            "1          No                        No  \n",
            "2          No                        No  \n",
            "3         Yes                        No  \n",
            "4         Yes                        No  \n"
          ]
        }
      ]
    },
    {
      "cell_type": "code",
      "source": [
        "\n",
        "grouped_by_student = df.groupby('StudentID')['Age'].mean()\n",
        "print(grouped_by_student)\n",
        "\n",
        "grouped_by_medication = df.groupby('Medication')['Doctor'].sum()\n",
        "print(grouped_by_medication)"
      ],
      "metadata": {
        "colab": {
          "base_uri": "https://localhost:8080/",
          "height": 211
        },
        "id": "IV8I9pnEoUqp",
        "outputId": "202e5917-c414-4fb3-a04f-b9d036e93d71"
      },
      "execution_count": null,
      "outputs": [
        {
          "output_type": "error",
          "ename": "NameError",
          "evalue": "name 'df' is not defined",
          "traceback": [
            "\u001b[0;31m---------------------------------------------------------------------------\u001b[0m",
            "\u001b[0;31mNameError\u001b[0m                                 Traceback (most recent call last)",
            "\u001b[0;32m<ipython-input-5-b49742e0338f>\u001b[0m in \u001b[0;36m<cell line: 1>\u001b[0;34m()\u001b[0m\n\u001b[0;32m----> 1\u001b[0;31m \u001b[0mgrouped_by_student\u001b[0m \u001b[0;34m=\u001b[0m \u001b[0mdf\u001b[0m\u001b[0;34m.\u001b[0m\u001b[0mgroupby\u001b[0m\u001b[0;34m(\u001b[0m\u001b[0;34m'StudentID'\u001b[0m\u001b[0;34m)\u001b[0m\u001b[0;34m[\u001b[0m\u001b[0;34m'Age'\u001b[0m\u001b[0;34m]\u001b[0m\u001b[0;34m.\u001b[0m\u001b[0mmean\u001b[0m\u001b[0;34m(\u001b[0m\u001b[0;34m)\u001b[0m\u001b[0;34m\u001b[0m\u001b[0;34m\u001b[0m\u001b[0m\n\u001b[0m\u001b[1;32m      2\u001b[0m \u001b[0mprint\u001b[0m\u001b[0;34m(\u001b[0m\u001b[0mgrouped_by_student\u001b[0m\u001b[0;34m)\u001b[0m\u001b[0;34m\u001b[0m\u001b[0;34m\u001b[0m\u001b[0m\n\u001b[1;32m      3\u001b[0m \u001b[0;34m\u001b[0m\u001b[0m\n\u001b[1;32m      4\u001b[0m \u001b[0mgrouped_by_medication\u001b[0m \u001b[0;34m=\u001b[0m \u001b[0mdf\u001b[0m\u001b[0;34m.\u001b[0m\u001b[0mgroupby\u001b[0m\u001b[0;34m(\u001b[0m\u001b[0;34m'Medication'\u001b[0m\u001b[0;34m)\u001b[0m\u001b[0;34m[\u001b[0m\u001b[0;34m'Doctor'\u001b[0m\u001b[0;34m]\u001b[0m\u001b[0;34m.\u001b[0m\u001b[0msum\u001b[0m\u001b[0;34m(\u001b[0m\u001b[0;34m)\u001b[0m\u001b[0;34m\u001b[0m\u001b[0;34m\u001b[0m\u001b[0m\n\u001b[1;32m      5\u001b[0m \u001b[0mprint\u001b[0m\u001b[0;34m(\u001b[0m\u001b[0mgrouped_by_medication\u001b[0m\u001b[0;34m)\u001b[0m\u001b[0;34m\u001b[0m\u001b[0;34m\u001b[0m\u001b[0m\n",
            "\u001b[0;31mNameError\u001b[0m: name 'df' is not defined"
          ]
        }
      ]
    }
  ]
}